{
 "cells": [
  {
   "cell_type": "code",
   "execution_count": 1,
   "id": "080bf429-e50f-4f20-9b25-fdf3774e263f",
   "metadata": {},
   "outputs": [],
   "source": [
    "# ocr letter recognition data"
   ]
  },
  {
   "cell_type": "code",
   "execution_count": 7,
   "id": "819d1a80-09a0-4145-82be-c5532c848e68",
   "metadata": {},
   "outputs": [],
   "source": [
    "import warnings\n",
    "warnings.filterwarnings('ignore')"
   ]
  },
  {
   "cell_type": "code",
   "execution_count": 13,
   "id": "1fe695a9-fb69-4155-87e0-64a54ff16bb6",
   "metadata": {},
   "outputs": [],
   "source": [
    "import tensorflow as tf\n",
    "from sklearn import datasets"
   ]
  },
  {
   "cell_type": "code",
   "execution_count": 15,
   "id": "99686ab5-c191-4190-9359-46062e383c7a",
   "metadata": {},
   "outputs": [],
   "source": [
    "df = datasets.load_digits()"
   ]
  },
  {
   "cell_type": "code",
   "execution_count": 41,
   "id": "804b4eec-62e2-4a95-a130-e128d72e44a9",
   "metadata": {},
   "outputs": [],
   "source": [
    "df;"
   ]
  },
  {
   "cell_type": "code",
   "execution_count": 21,
   "id": "7a64bfdc-a68f-445b-bee9-39d9d94866db",
   "metadata": {},
   "outputs": [],
   "source": [
    "# separate input and output\n",
    "\n",
    "x = df.data\n",
    "\n",
    "y = df.target"
   ]
  },
  {
   "cell_type": "code",
   "execution_count": 25,
   "id": "0f4c32b9-328d-44fe-b042-619fc0ea1838",
   "metadata": {},
   "outputs": [
    {
     "data": {
      "text/plain": [
       "(1797, 64)"
      ]
     },
     "execution_count": 25,
     "metadata": {},
     "output_type": "execute_result"
    }
   ],
   "source": [
    "x.shape"
   ]
  },
  {
   "cell_type": "code",
   "execution_count": 27,
   "id": "f0b6911d-320e-4745-ae21-c9a1c11a1f2a",
   "metadata": {},
   "outputs": [
    {
     "data": {
      "text/plain": [
       "(1797,)"
      ]
     },
     "execution_count": 27,
     "metadata": {},
     "output_type": "execute_result"
    }
   ],
   "source": [
    "y.shape"
   ]
  },
  {
   "cell_type": "code",
   "execution_count": 35,
   "id": "511a43c2-dfcd-4fc9-a9ea-cff1c5e8ea1f",
   "metadata": {},
   "outputs": [],
   "source": [
    "# standard scaling\n",
    "\n",
    "from sklearn.preprocessing import StandardScaler\n",
    "scaler = StandardScaler()\n",
    "\n",
    "x_scaled = scaler.fit_transform(x)"
   ]
  },
  {
   "cell_type": "code",
   "execution_count": 37,
   "id": "d27f818b-0f8b-4e84-bfc7-cce945a2b6ad",
   "metadata": {},
   "outputs": [],
   "source": [
    "# converting output to categories\n",
    "from tensorflow.keras.utils import to_categorical\n",
    "\n",
    "y_cat = to_categorical(y)"
   ]
  },
  {
   "cell_type": "code",
   "execution_count": 43,
   "id": "06dd5d76-61cf-41bd-8474-1c0523a2bb05",
   "metadata": {},
   "outputs": [],
   "source": [
    "# cross validation => 80, 20\n",
    "\n",
    "from sklearn.model_selection import train_test_split\n",
    "\n",
    "x_train, x_test, y_train, y_test = train_test_split(x_scaled, y_cat,\n",
    "                                                   random_state= 0,\n",
    "                                                   test_size= 0.2)"
   ]
  },
  {
   "cell_type": "code",
   "execution_count": 45,
   "id": "11f16de9-5a58-40d1-bb6d-8c655e0cd5fe",
   "metadata": {},
   "outputs": [
    {
     "data": {
      "text/plain": [
       "(1437, 64)"
      ]
     },
     "execution_count": 45,
     "metadata": {},
     "output_type": "execute_result"
    }
   ],
   "source": [
    "x_train.shape"
   ]
  },
  {
   "cell_type": "code",
   "execution_count": 47,
   "id": "183c53b3-3dd4-4cb7-9330-70ace75eb711",
   "metadata": {},
   "outputs": [
    {
     "data": {
      "text/plain": [
       "(1437, 10)"
      ]
     },
     "execution_count": 47,
     "metadata": {},
     "output_type": "execute_result"
    }
   ],
   "source": [
    "y_train.shape"
   ]
  },
  {
   "cell_type": "code",
   "execution_count": 49,
   "id": "2110a3a8-4264-4b01-bb89-b1cf59efffb1",
   "metadata": {},
   "outputs": [],
   "source": [
    "from tensorflow.keras.models import Sequential\n",
    "from tensorflow.keras.layers import Dense, Dropout"
   ]
  },
  {
   "cell_type": "code",
   "execution_count": 51,
   "id": "4ecbcd82-f2fa-441a-9064-37eaf94adfc7",
   "metadata": {},
   "outputs": [],
   "source": [
    "model = Sequential()"
   ]
  },
  {
   "cell_type": "code",
   "execution_count": 53,
   "id": "9de5c938-a1fd-4393-9986-f0a7dec4fab7",
   "metadata": {},
   "outputs": [],
   "source": [
    "model.add(Dense(64, input_shape = (x_train.shape[1],), activation = 'relu'))"
   ]
  },
  {
   "cell_type": "code",
   "execution_count": 55,
   "id": "3736b639-4f56-492b-b232-8f0a0d65115c",
   "metadata": {},
   "outputs": [],
   "source": [
    "model.add(Dropout(0.3))"
   ]
  },
  {
   "cell_type": "code",
   "execution_count": 57,
   "id": "f6db971e-b64f-4846-99a0-964c4120475b",
   "metadata": {},
   "outputs": [],
   "source": [
    "# 2nd hidden\n",
    "model.add(Dense(64, activation = 'relu'))\n",
    "model.add(Dropout(0.3))"
   ]
  },
  {
   "cell_type": "code",
   "execution_count": 59,
   "id": "0f2b27ae-a5a5-4d24-a458-678b47eb8361",
   "metadata": {},
   "outputs": [],
   "source": [
    "# 3rd hidden layer\n",
    "model.add(Dense(64, activation = 'relu'))\n",
    "model.add(Dropout(0.3))"
   ]
  },
  {
   "cell_type": "code",
   "execution_count": 61,
   "id": "e6412287-6911-4d17-98ab-cbc3d4f3a236",
   "metadata": {},
   "outputs": [],
   "source": [
    "# output layer\n",
    "model.add(Dense(10, activation = 'softmax'))"
   ]
  },
  {
   "cell_type": "code",
   "execution_count": 63,
   "id": "f36bfe02-567b-4136-b793-7c3e5fa9b947",
   "metadata": {},
   "outputs": [
    {
     "data": {
      "text/html": [
       "<pre style=\"white-space:pre;overflow-x:auto;line-height:normal;font-family:Menlo,'DejaVu Sans Mono',consolas,'Courier New',monospace\"><span style=\"font-weight: bold\">Model: \"sequential\"</span>\n",
       "</pre>\n"
      ],
      "text/plain": [
       "\u001b[1mModel: \"sequential\"\u001b[0m\n"
      ]
     },
     "metadata": {},
     "output_type": "display_data"
    },
    {
     "data": {
      "text/html": [
       "<pre style=\"white-space:pre;overflow-x:auto;line-height:normal;font-family:Menlo,'DejaVu Sans Mono',consolas,'Courier New',monospace\">┏━━━━━━━━━━━━━━━━━━━━━━━━━━━━━━━━━┳━━━━━━━━━━━━━━━━━━━━━━━━┳━━━━━━━━━━━━━━━┓\n",
       "┃<span style=\"font-weight: bold\"> Layer (type)                    </span>┃<span style=\"font-weight: bold\"> Output Shape           </span>┃<span style=\"font-weight: bold\">       Param # </span>┃\n",
       "┡━━━━━━━━━━━━━━━━━━━━━━━━━━━━━━━━━╇━━━━━━━━━━━━━━━━━━━━━━━━╇━━━━━━━━━━━━━━━┩\n",
       "│ dense (<span style=\"color: #0087ff; text-decoration-color: #0087ff\">Dense</span>)                   │ (<span style=\"color: #00d7ff; text-decoration-color: #00d7ff\">None</span>, <span style=\"color: #00af00; text-decoration-color: #00af00\">64</span>)             │         <span style=\"color: #00af00; text-decoration-color: #00af00\">4,160</span> │\n",
       "├─────────────────────────────────┼────────────────────────┼───────────────┤\n",
       "│ dropout (<span style=\"color: #0087ff; text-decoration-color: #0087ff\">Dropout</span>)               │ (<span style=\"color: #00d7ff; text-decoration-color: #00d7ff\">None</span>, <span style=\"color: #00af00; text-decoration-color: #00af00\">64</span>)             │             <span style=\"color: #00af00; text-decoration-color: #00af00\">0</span> │\n",
       "├─────────────────────────────────┼────────────────────────┼───────────────┤\n",
       "│ dense_1 (<span style=\"color: #0087ff; text-decoration-color: #0087ff\">Dense</span>)                 │ (<span style=\"color: #00d7ff; text-decoration-color: #00d7ff\">None</span>, <span style=\"color: #00af00; text-decoration-color: #00af00\">64</span>)             │         <span style=\"color: #00af00; text-decoration-color: #00af00\">4,160</span> │\n",
       "├─────────────────────────────────┼────────────────────────┼───────────────┤\n",
       "│ dropout_1 (<span style=\"color: #0087ff; text-decoration-color: #0087ff\">Dropout</span>)             │ (<span style=\"color: #00d7ff; text-decoration-color: #00d7ff\">None</span>, <span style=\"color: #00af00; text-decoration-color: #00af00\">64</span>)             │             <span style=\"color: #00af00; text-decoration-color: #00af00\">0</span> │\n",
       "├─────────────────────────────────┼────────────────────────┼───────────────┤\n",
       "│ dense_2 (<span style=\"color: #0087ff; text-decoration-color: #0087ff\">Dense</span>)                 │ (<span style=\"color: #00d7ff; text-decoration-color: #00d7ff\">None</span>, <span style=\"color: #00af00; text-decoration-color: #00af00\">64</span>)             │         <span style=\"color: #00af00; text-decoration-color: #00af00\">4,160</span> │\n",
       "├─────────────────────────────────┼────────────────────────┼───────────────┤\n",
       "│ dropout_2 (<span style=\"color: #0087ff; text-decoration-color: #0087ff\">Dropout</span>)             │ (<span style=\"color: #00d7ff; text-decoration-color: #00d7ff\">None</span>, <span style=\"color: #00af00; text-decoration-color: #00af00\">64</span>)             │             <span style=\"color: #00af00; text-decoration-color: #00af00\">0</span> │\n",
       "├─────────────────────────────────┼────────────────────────┼───────────────┤\n",
       "│ dense_3 (<span style=\"color: #0087ff; text-decoration-color: #0087ff\">Dense</span>)                 │ (<span style=\"color: #00d7ff; text-decoration-color: #00d7ff\">None</span>, <span style=\"color: #00af00; text-decoration-color: #00af00\">10</span>)             │           <span style=\"color: #00af00; text-decoration-color: #00af00\">650</span> │\n",
       "└─────────────────────────────────┴────────────────────────┴───────────────┘\n",
       "</pre>\n"
      ],
      "text/plain": [
       "┏━━━━━━━━━━━━━━━━━━━━━━━━━━━━━━━━━┳━━━━━━━━━━━━━━━━━━━━━━━━┳━━━━━━━━━━━━━━━┓\n",
       "┃\u001b[1m \u001b[0m\u001b[1mLayer (type)                   \u001b[0m\u001b[1m \u001b[0m┃\u001b[1m \u001b[0m\u001b[1mOutput Shape          \u001b[0m\u001b[1m \u001b[0m┃\u001b[1m \u001b[0m\u001b[1m      Param #\u001b[0m\u001b[1m \u001b[0m┃\n",
       "┡━━━━━━━━━━━━━━━━━━━━━━━━━━━━━━━━━╇━━━━━━━━━━━━━━━━━━━━━━━━╇━━━━━━━━━━━━━━━┩\n",
       "│ dense (\u001b[38;5;33mDense\u001b[0m)                   │ (\u001b[38;5;45mNone\u001b[0m, \u001b[38;5;34m64\u001b[0m)             │         \u001b[38;5;34m4,160\u001b[0m │\n",
       "├─────────────────────────────────┼────────────────────────┼───────────────┤\n",
       "│ dropout (\u001b[38;5;33mDropout\u001b[0m)               │ (\u001b[38;5;45mNone\u001b[0m, \u001b[38;5;34m64\u001b[0m)             │             \u001b[38;5;34m0\u001b[0m │\n",
       "├─────────────────────────────────┼────────────────────────┼───────────────┤\n",
       "│ dense_1 (\u001b[38;5;33mDense\u001b[0m)                 │ (\u001b[38;5;45mNone\u001b[0m, \u001b[38;5;34m64\u001b[0m)             │         \u001b[38;5;34m4,160\u001b[0m │\n",
       "├─────────────────────────────────┼────────────────────────┼───────────────┤\n",
       "│ dropout_1 (\u001b[38;5;33mDropout\u001b[0m)             │ (\u001b[38;5;45mNone\u001b[0m, \u001b[38;5;34m64\u001b[0m)             │             \u001b[38;5;34m0\u001b[0m │\n",
       "├─────────────────────────────────┼────────────────────────┼───────────────┤\n",
       "│ dense_2 (\u001b[38;5;33mDense\u001b[0m)                 │ (\u001b[38;5;45mNone\u001b[0m, \u001b[38;5;34m64\u001b[0m)             │         \u001b[38;5;34m4,160\u001b[0m │\n",
       "├─────────────────────────────────┼────────────────────────┼───────────────┤\n",
       "│ dropout_2 (\u001b[38;5;33mDropout\u001b[0m)             │ (\u001b[38;5;45mNone\u001b[0m, \u001b[38;5;34m64\u001b[0m)             │             \u001b[38;5;34m0\u001b[0m │\n",
       "├─────────────────────────────────┼────────────────────────┼───────────────┤\n",
       "│ dense_3 (\u001b[38;5;33mDense\u001b[0m)                 │ (\u001b[38;5;45mNone\u001b[0m, \u001b[38;5;34m10\u001b[0m)             │           \u001b[38;5;34m650\u001b[0m │\n",
       "└─────────────────────────────────┴────────────────────────┴───────────────┘\n"
      ]
     },
     "metadata": {},
     "output_type": "display_data"
    },
    {
     "data": {
      "text/html": [
       "<pre style=\"white-space:pre;overflow-x:auto;line-height:normal;font-family:Menlo,'DejaVu Sans Mono',consolas,'Courier New',monospace\"><span style=\"font-weight: bold\"> Total params: </span><span style=\"color: #00af00; text-decoration-color: #00af00\">13,130</span> (51.29 KB)\n",
       "</pre>\n"
      ],
      "text/plain": [
       "\u001b[1m Total params: \u001b[0m\u001b[38;5;34m13,130\u001b[0m (51.29 KB)\n"
      ]
     },
     "metadata": {},
     "output_type": "display_data"
    },
    {
     "data": {
      "text/html": [
       "<pre style=\"white-space:pre;overflow-x:auto;line-height:normal;font-family:Menlo,'DejaVu Sans Mono',consolas,'Courier New',monospace\"><span style=\"font-weight: bold\"> Trainable params: </span><span style=\"color: #00af00; text-decoration-color: #00af00\">13,130</span> (51.29 KB)\n",
       "</pre>\n"
      ],
      "text/plain": [
       "\u001b[1m Trainable params: \u001b[0m\u001b[38;5;34m13,130\u001b[0m (51.29 KB)\n"
      ]
     },
     "metadata": {},
     "output_type": "display_data"
    },
    {
     "data": {
      "text/html": [
       "<pre style=\"white-space:pre;overflow-x:auto;line-height:normal;font-family:Menlo,'DejaVu Sans Mono',consolas,'Courier New',monospace\"><span style=\"font-weight: bold\"> Non-trainable params: </span><span style=\"color: #00af00; text-decoration-color: #00af00\">0</span> (0.00 B)\n",
       "</pre>\n"
      ],
      "text/plain": [
       "\u001b[1m Non-trainable params: \u001b[0m\u001b[38;5;34m0\u001b[0m (0.00 B)\n"
      ]
     },
     "metadata": {},
     "output_type": "display_data"
    }
   ],
   "source": [
    "model.summary()"
   ]
  },
  {
   "cell_type": "code",
   "execution_count": 65,
   "id": "35bbb866-a033-44d8-96ae-8e1bb9ac6dc7",
   "metadata": {},
   "outputs": [],
   "source": [
    "# compile the model"
   ]
  },
  {
   "cell_type": "code",
   "execution_count": 67,
   "id": "fd37122c-d462-4d1e-85c6-eee15c0698c6",
   "metadata": {},
   "outputs": [],
   "source": [
    "model.compile(optimizer= 'adam', loss = 'categorical_crossentropy', \n",
    "              metrics = ['accuracy'])"
   ]
  },
  {
   "cell_type": "code",
   "execution_count": 73,
   "id": "279442ba-bfc4-4775-ad20-b9e0e653122d",
   "metadata": {},
   "outputs": [
    {
     "name": "stdout",
     "output_type": "stream",
     "text": [
      "Epoch 1/30\n",
      "45/45 - 0s - 3ms/step - accuracy: 0.9019 - loss: 0.3341 - val_accuracy: 0.9556 - val_loss: 0.1841\n",
      "Epoch 2/30\n",
      "45/45 - 0s - 2ms/step - accuracy: 0.9102 - loss: 0.2955 - val_accuracy: 0.9639 - val_loss: 0.1775\n",
      "Epoch 3/30\n",
      "45/45 - 0s - 2ms/step - accuracy: 0.9068 - loss: 0.2613 - val_accuracy: 0.9722 - val_loss: 0.1632\n",
      "Epoch 4/30\n",
      "45/45 - 0s - 2ms/step - accuracy: 0.9283 - loss: 0.2351 - val_accuracy: 0.9722 - val_loss: 0.1692\n",
      "Epoch 5/30\n",
      "45/45 - 0s - 2ms/step - accuracy: 0.9214 - loss: 0.2425 - val_accuracy: 0.9694 - val_loss: 0.1696\n",
      "Epoch 6/30\n",
      "45/45 - 0s - 2ms/step - accuracy: 0.9353 - loss: 0.2087 - val_accuracy: 0.9722 - val_loss: 0.1616\n",
      "Epoch 7/30\n",
      "45/45 - 0s - 2ms/step - accuracy: 0.9360 - loss: 0.2068 - val_accuracy: 0.9722 - val_loss: 0.1639\n",
      "Epoch 8/30\n",
      "45/45 - 0s - 2ms/step - accuracy: 0.9429 - loss: 0.1842 - val_accuracy: 0.9750 - val_loss: 0.1623\n",
      "Epoch 9/30\n",
      "45/45 - 0s - 2ms/step - accuracy: 0.9471 - loss: 0.1718 - val_accuracy: 0.9750 - val_loss: 0.1701\n",
      "Epoch 10/30\n",
      "45/45 - 0s - 2ms/step - accuracy: 0.9534 - loss: 0.1591 - val_accuracy: 0.9722 - val_loss: 0.1769\n",
      "Epoch 11/30\n",
      "45/45 - 0s - 2ms/step - accuracy: 0.9429 - loss: 0.1759 - val_accuracy: 0.9750 - val_loss: 0.1666\n",
      "Epoch 12/30\n",
      "45/45 - 0s - 3ms/step - accuracy: 0.9506 - loss: 0.1550 - val_accuracy: 0.9750 - val_loss: 0.1805\n",
      "Epoch 13/30\n",
      "45/45 - 0s - 2ms/step - accuracy: 0.9638 - loss: 0.1334 - val_accuracy: 0.9750 - val_loss: 0.1879\n",
      "Epoch 14/30\n",
      "45/45 - 0s - 2ms/step - accuracy: 0.9555 - loss: 0.1263 - val_accuracy: 0.9750 - val_loss: 0.1738\n",
      "Epoch 15/30\n",
      "45/45 - 0s - 2ms/step - accuracy: 0.9548 - loss: 0.1595 - val_accuracy: 0.9750 - val_loss: 0.1665\n",
      "Epoch 16/30\n",
      "45/45 - 0s - 3ms/step - accuracy: 0.9603 - loss: 0.1349 - val_accuracy: 0.9750 - val_loss: 0.1749\n",
      "Epoch 17/30\n",
      "45/45 - 0s - 2ms/step - accuracy: 0.9631 - loss: 0.1168 - val_accuracy: 0.9750 - val_loss: 0.1782\n",
      "Epoch 18/30\n",
      "45/45 - 0s - 3ms/step - accuracy: 0.9555 - loss: 0.1365 - val_accuracy: 0.9750 - val_loss: 0.1853\n",
      "Epoch 19/30\n",
      "45/45 - 0s - 2ms/step - accuracy: 0.9603 - loss: 0.1195 - val_accuracy: 0.9750 - val_loss: 0.1896\n",
      "Epoch 20/30\n",
      "45/45 - 0s - 2ms/step - accuracy: 0.9596 - loss: 0.1179 - val_accuracy: 0.9750 - val_loss: 0.1854\n",
      "Epoch 21/30\n",
      "45/45 - 0s - 3ms/step - accuracy: 0.9645 - loss: 0.1025 - val_accuracy: 0.9750 - val_loss: 0.2064\n",
      "Epoch 22/30\n",
      "45/45 - 0s - 3ms/step - accuracy: 0.9729 - loss: 0.0937 - val_accuracy: 0.9778 - val_loss: 0.1984\n",
      "Epoch 23/30\n",
      "45/45 - 0s - 3ms/step - accuracy: 0.9589 - loss: 0.1296 - val_accuracy: 0.9778 - val_loss: 0.1973\n",
      "Epoch 24/30\n",
      "45/45 - 0s - 2ms/step - accuracy: 0.9589 - loss: 0.1252 - val_accuracy: 0.9778 - val_loss: 0.1997\n",
      "Epoch 25/30\n",
      "45/45 - 0s - 3ms/step - accuracy: 0.9694 - loss: 0.0953 - val_accuracy: 0.9778 - val_loss: 0.1961\n",
      "Epoch 26/30\n",
      "45/45 - 0s - 3ms/step - accuracy: 0.9701 - loss: 0.0990 - val_accuracy: 0.9778 - val_loss: 0.1951\n",
      "Epoch 27/30\n",
      "45/45 - 0s - 2ms/step - accuracy: 0.9729 - loss: 0.0911 - val_accuracy: 0.9778 - val_loss: 0.2024\n",
      "Epoch 28/30\n",
      "45/45 - 0s - 2ms/step - accuracy: 0.9749 - loss: 0.0814 - val_accuracy: 0.9778 - val_loss: 0.1822\n",
      "Epoch 29/30\n",
      "45/45 - 0s - 2ms/step - accuracy: 0.9729 - loss: 0.0945 - val_accuracy: 0.9778 - val_loss: 0.1949\n",
      "Epoch 30/30\n",
      "45/45 - 0s - 2ms/step - accuracy: 0.9729 - loss: 0.0895 - val_accuracy: 0.9778 - val_loss: 0.1893\n"
     ]
    }
   ],
   "source": [
    "# train the model\n",
    "hist = model.fit(x_train, y_train, epochs= 30, batch_size = 32, \n",
    "                 validation_data=(x_test, y_test), verbose = 2)"
   ]
  },
  {
   "cell_type": "code",
   "execution_count": 75,
   "id": "3a600d61-5e06-4aaa-a470-fb362da57e30",
   "metadata": {},
   "outputs": [
    {
     "name": "stdout",
     "output_type": "stream",
     "text": [
      "\u001b[1m12/12\u001b[0m \u001b[32m━━━━━━━━━━━━━━━━━━━━\u001b[0m\u001b[37m\u001b[0m \u001b[1m0s\u001b[0m 2ms/step - accuracy: 0.9813 - loss: 0.1282     \n"
     ]
    },
    {
     "data": {
      "text/plain": [
       "[0.189300999045372, 0.9777777791023254]"
      ]
     },
     "execution_count": 75,
     "metadata": {},
     "output_type": "execute_result"
    }
   ],
   "source": [
    "model.evaluate(x_test, y_test)"
   ]
  },
  {
   "cell_type": "code",
   "execution_count": null,
   "id": "5f1aa8d7-2460-4ab2-9796-0d46c10ba1ac",
   "metadata": {},
   "outputs": [],
   "source": []
  }
 ],
 "metadata": {
  "kernelspec": {
   "display_name": "Python 3 (ipykernel)",
   "language": "python",
   "name": "python3"
  },
  "language_info": {
   "codemirror_mode": {
    "name": "ipython",
    "version": 3
   },
   "file_extension": ".py",
   "mimetype": "text/x-python",
   "name": "python",
   "nbconvert_exporter": "python",
   "pygments_lexer": "ipython3",
   "version": "3.11.9"
  }
 },
 "nbformat": 4,
 "nbformat_minor": 5
}
